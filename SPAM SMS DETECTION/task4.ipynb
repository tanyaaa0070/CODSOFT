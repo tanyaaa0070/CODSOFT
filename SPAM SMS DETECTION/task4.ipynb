{
 "cells": [
  {
   "cell_type": "code",
   "execution_count": null,
   "id": "2cbc281c-6b23-43bc-b531-16f8e2011745",
   "metadata": {},
   "outputs": [],
   "source": [
    "✅ Step 1: Import Libraries"
   ]
  },
  {
   "cell_type": "code",
   "execution_count": 20,
   "id": "d4dcea4b-d026-48cc-b249-e611695ed3ea",
   "metadata": {},
   "outputs": [],
   "source": [
    "import pandas as pd\n",
    "import numpy as np\n",
    "import seaborn as sns\n",
    "import matplotlib.pyplot as plt\n",
    "\n",
    "from sklearn.model_selection import train_test_split\n",
    "from sklearn.feature_extraction.text import TfidfVectorizer\n",
    "from sklearn.naive_bayes import MultinomialNB\n",
    "from sklearn.linear_model import LogisticRegression\n",
    "from sklearn.svm import LinearSVC\n",
    "from sklearn.metrics import classification_report, confusion_matrix\n",
    "\n",
    "import warnings\n",
    "warnings.filterwarnings(\"ignore\")\n"
   ]
  },
  {
   "cell_type": "code",
   "execution_count": null,
   "id": "15ad12ec-f01d-4d87-9e7c-5a8bdc2fc460",
   "metadata": {},
   "outputs": [],
   "source": [
    "✅ Step 2: Load and Explore the Dataset\n"
   ]
  },
  {
   "cell_type": "code",
   "execution_count": 23,
   "id": "d2799a46-cd0b-4606-8a96-ba7eb693f565",
   "metadata": {},
   "outputs": [],
   "source": [
    "# Load dataset\n",
    "df = pd.read_csv(r\"C:\\Users\\Tanya Singh\\Desktop\\code_soft\\task4\\spam.csv\", encoding='latin-1')[['v1', 'v2']]\n",
    "\n",
    "df.columns = ['label', 'message']\n",
    "df.head()\n",
    "\n",
    "# Label encode (ham → 0, spam → 1)\n",
    "df['label'] = df['label'].map({'ham': 0, 'spam': 1})\n"
   ]
  },
  {
   "cell_type": "code",
   "execution_count": null,
   "id": "dee2a5d4-a6ed-491c-b665-69d09d128c03",
   "metadata": {},
   "outputs": [],
   "source": [
    "✅ Step 3: Visualize Distribution"
   ]
  },
  {
   "cell_type": "code",
   "execution_count": 25,
   "id": "92bc1932-c519-4076-a053-e31c02396f7a",
   "metadata": {},
   "outputs": [
    {
     "data": {
      "image/png": "[encoded data removed]",
      "text/plain": [
       "<Figure size 640x480 with 1 Axes>"
      ]
     },
     "metadata": {},
     "output_type": "display_data"
    }
   ],
   "source": [
    "sns.countplot(x='label', data=df)\n",
    "plt.title(\"Class Distribution (0: Ham, 1: Spam)\")\n",
    "plt.show()\n"
   ]
  },
  {
   "cell_type": "code",
   "execution_count": null,
   "id": "e8516f0c-da4b-402d-a965-19a978fd0e8c",
   "metadata": {},
   "outputs": [],
   "source": [
    "✅ Step 4: Data Preprocessing & Vectorization (TF-IDF)"
   ]
  },
  {
   "cell_type": "code",
   "execution_count": 27,
   "id": "3ea15c3e-632e-4d82-98a1-3a81e9db5cab",
   "metadata": {},
   "outputs": [],
   "source": [
    "# Split into train and test\n",
    "X_train, X_test, y_train, y_test = train_test_split(\n",
    "    df['message'], df['label'], test_size=0.2, random_state=42, stratify=df['label']\n",
    ")\n",
    "\n",
    "# Convert text to TF-IDF vectors\n",
    "vectorizer = TfidfVectorizer(stop_words='english')\n",
    "X_train_tfidf = vectorizer.fit_transform(X_train)\n",
    "X_test_tfidf = vectorizer.transform(X_test)\n"
   ]
  },
  {
   "cell_type": "code",
   "execution_count": null,
   "id": "80ce339a-78ab-4699-a58f-cd8c998c0176",
   "metadata": {},
   "outputs": [],
   "source": [
    "✅ Step 5: Train and Evaluate Classifiers"
   ]
  },
  {
   "cell_type": "code",
   "execution_count": 29,
   "id": "4a9a06ee-be02-4568-acc1-95ff0bfdea7e",
   "metadata": {},
   "outputs": [
    {
     "name": "stdout",
     "output_type": "stream",
     "text": [
      "Naive Bayes:\n",
      "               precision    recall  f1-score   support\n",
      "\n",
      "           0       0.97      1.00      0.98       966\n",
      "           1       1.00      0.77      0.87       149\n",
      "\n",
      "    accuracy                           0.97      1115\n",
      "   macro avg       0.98      0.88      0.92      1115\n",
      "weighted avg       0.97      0.97      0.97      1115\n",
      "\n"
     ]
    }
   ],
   "source": [
    "nb = MultinomialNB()\n",
    "nb.fit(X_train_tfidf, y_train)\n",
    "nb_pred = nb.predict(X_test_tfidf)\n",
    "\n",
    "print(\"Naive Bayes:\\n\", classification_report(y_test, nb_pred))\n"
   ]
  },
  {
   "cell_type": "code",
   "execution_count": 33,
   "id": "44b59e25-a314-437a-a053-e88e284991f9",
   "metadata": {},
   "outputs": [
    {
     "name": "stdout",
     "output_type": "stream",
     "text": [
      "Logistic Regression:\n",
      "               precision    recall  f1-score   support\n",
      "\n",
      "           0       0.96      1.00      0.98       966\n",
      "           1       1.00      0.76      0.86       149\n",
      "\n",
      "    accuracy                           0.97      1115\n",
      "   macro avg       0.98      0.88      0.92      1115\n",
      "weighted avg       0.97      0.97      0.97      1115\n",
      "\n"
     ]
    }
   ],
   "source": [
    "lr = LogisticRegression()\n",
    "lr.fit(X_train_tfidf, y_train)\n",
    "lr_pred = lr.predict(X_test_tfidf)\n",
    "\n",
    "print(\"Logistic Regression:\\n\", classification_report(y_test, lr_pred))\n"
   ]
  },
  {
   "cell_type": "code",
   "execution_count": 35,
   "id": "78a8a7fb-2808-44a9-9789-e43d49d1bb61",
   "metadata": {},
   "outputs": [
    {
     "name": "stdout",
     "output_type": "stream",
     "text": [
      "SVM:\n",
      "               precision    recall  f1-score   support\n",
      "\n",
      "           0       0.98      1.00      0.99       966\n",
      "           1       0.99      0.89      0.94       149\n",
      "\n",
      "    accuracy                           0.98      1115\n",
      "   macro avg       0.99      0.94      0.96      1115\n",
      "weighted avg       0.98      0.98      0.98      1115\n",
      "\n"
     ]
    }
   ],
   "source": [
    "svm = LinearSVC()\n",
    "svm.fit(X_train_tfidf, y_train)\n",
    "svm_pred = svm.predict(X_test_tfidf)\n",
    "\n",
    "print(\"SVM:\\n\", classification_report(y_test, svm_pred))\n"
   ]
  },
  {
   "cell_type": "code",
   "execution_count": null,
   "id": "4969f3f9-9573-46a1-8cb1-8e2bfa9ae848",
   "metadata": {},
   "outputs": [],
   "source": [
    "✅ Step 6: Confusion Matrix Visualization (Op"
   ]
  },
  {
   "cell_type": "code",
   "execution_count": 37,
   "id": "b713492b-231f-48dd-8144-83fa3731b8d3",
   "metadata": {},
   "outputs": [
    {
     "data": {
      "image/png": "[encoded data removed]",
      "text/plain": [
       "<Figure size 640x480 with 2 Axes>"
      ]
     },
     "metadata": {},
     "output_type": "display_data"
    }
   ],
   "source": [
    "sns.heatmap(confusion_matrix(y_test, svm_pred), annot=True, fmt='d', cmap='Blues')\n",
    "plt.title(\"SVM Confusion Matrix\")\n",
    "plt.xlabel(\"Predicted\")\n",
    "plt.ylabel(\"Actual\")\n",
    "plt.show()\n"
   ]
  },
  {
   "cell_type": "code",
   "execution_count": null,
   "id": "e7b1fbce-0d95-4ba2-803b-430a8bf16b26",
   "metadata": {},
   "outputs": [],
   "source": []
  },
  {
   "cell_type": "code",
   "execution_count": null,
   "id": "e28f3398-0167-4386-9395-5ab155fcd7a8",
   "metadata": {},
   "outputs": [],
   "source": []
  }
 ],
 "metadata": {
  "kernelspec": {
   "display_name": "Python [conda env:base] *",
   "language": "python",
   "name": "conda-base-py"
  },
  "language_info": {
   "codemirror_mode": {
    "name": "ipython",
    "version": 3
   },
   "file_extension": ".py",
   "mimetype": "text/x-python",
   "name": "python",
   "nbconvert_exporter": "python",
   "pygments_lexer": "ipython3",
   "version": "3.12.7"
  }
 },
 "nbformat": 4,
 "nbformat_minor": 5
}
